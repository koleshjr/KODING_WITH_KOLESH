{
  "cells": [
    {
      "cell_type": "markdown",
      "metadata": {
        "id": "ZAlUa8SlkAm3"
      },
      "source": [
        "## LACUNA MASAKHANE POS CLASSIFICATION\n",
        "* Shoutout to Kenyor for his wonderful forked repo"
      ]
    },
    {
      "cell_type": "code",
      "execution_count": null,
      "metadata": {
        "id": "Sa3IB0chiNMP"
      },
      "outputs": [],
      "source": [
        "!git clone https://github.com/NtemKenyor/masakhane-pos"
      ]
    },
    {
      "cell_type": "code",
      "execution_count": null,
      "metadata": {
        "id": "csDPyddra7yZ"
      },
      "outputs": [],
      "source": [
        "!pip install transformers\n",
        "!pip install datasets\n",
        "!pip install accelerate -U\n",
        "!pip install wandb"
      ]
    },
    {
      "cell_type": "markdown",
      "metadata": {
        "id": "w2kcdnESbQun"
      },
      "source": [
        "### Import Libraries"
      ]
    },
    {
      "cell_type": "code",
      "execution_count": null,
      "metadata": {
        "id": "CnkQadQUbI_U"
      },
      "outputs": [],
      "source": [
        "import os\n",
        "import random\n",
        "import wandb\n",
        "import pandas as pd\n",
        "import numpy as np\n",
        "from sklearn.model_selection import train_test_split\n",
        "from sklearn.metrics import accuracy_score, f1_score\n",
        "from sklearn.preprocessing import LabelEncoder\n",
        "le = LabelEncoder()\n",
        "from datasets import DatasetDict, Dataset\n",
        "\n",
        "import torch\n",
        "import transformers\n",
        "from transformers import AutoTokenizer, AutoModelForSequenceClassification, TrainingArguments, Trainer, EarlyStoppingCallback\n",
        "import wandb\n"
      ]
    },
    {
      "cell_type": "markdown",
      "metadata": {
        "id": "Ix3wpbi2cxqR"
      },
      "source": [
        "### Config setup"
      ]
    },
    {
      "cell_type": "code",
      "execution_count": null,
      "metadata": {
        "id": "fiY2IqvLcvZ5"
      },
      "outputs": [],
      "source": [
        "class CFG:\n",
        "  project_name = \"Baseline_lacuna_trial_one\"\n",
        "  test_path = \"/content/masakhane-pos/data/Test.csv\"\n",
        "  train_path = \"/content/masakhane-pos/data/africa_lan.csv\"\n",
        "  model_name = \"Davlan/afro-xlmr-mini\"\n",
        "  device = torch.device(\"cuda\" if torch.cuda.is_available() else \"cpu\")\n",
        "  seed = 42\n",
        "  max_length = 38\n",
        "  valid_languages = ['wol', 'sna']\n",
        "  num_classes = None\n",
        "  num_epochs = 2\n",
        "  label_mappings = None\n",
        "  batch_size = 64\n"
      ]
    },
    {
      "cell_type": "markdown",
      "metadata": {
        "id": "gWCg6P4zep3J"
      },
      "source": [
        "### Setup Wandb"
      ]
    },
    {
      "cell_type": "code",
      "execution_count": null,
      "metadata": {
        "id": "ctNQpB6zcG41"
      },
      "outputs": [],
      "source": [
        "wandb.login()\n",
        "wandb.init(project=CFG.project_name)"
      ]
    },
    {
      "cell_type": "code",
      "execution_count": null,
      "metadata": {
        "id": "T7hY8ikXfNdw"
      },
      "outputs": [],
      "source": [
        "%env WANDB_LOG_MODEL = true"
      ]
    },
    {
      "cell_type": "markdown",
      "metadata": {
        "id": "0F-7naqtgbg8"
      },
      "source": [
        "### For reproducibility"
      ]
    },
    {
      "cell_type": "code",
      "execution_count": null,
      "metadata": {
        "id": "UXUfCrdAe_h9"
      },
      "outputs": [],
      "source": [
        "def set_random_seed(random_seed):\n",
        "  random.seed(random_seed)\n",
        "  np.random.seed(random_seed)\n",
        "  os.environ[\"PYTHONHASHEDSEED\"] = str(random_seed)\n",
        "\n",
        "  torch.manual_seed(random_seed)\n",
        "  torch.cuda.manual_seed(random_seed)\n",
        "  torch.cuda.manual_seed_all(random_seed)\n",
        "\n",
        "  torch.backends.cudnn.deterministic = True\n",
        "\n",
        "set_random_seed(CFG.seed)\n",
        "transformers.set_seed(CFG.seed)"
      ]
    },
    {
      "cell_type": "markdown",
      "metadata": {
        "id": "4ONdxOyTgfE0"
      },
      "source": [
        "### Load the datasets"
      ]
    },
    {
      "cell_type": "code",
      "execution_count": null,
      "metadata": {
        "id": "PUJSI7sEgWsj"
      },
      "outputs": [],
      "source": [
        "train = pd.read_csv(CFG.train_path)\n",
        "test = pd.read_csv(CFG.test_path)\n",
        "\n",
        "display(train.head(),\n",
        "        test.head())"
      ]
    },
    {
      "cell_type": "code",
      "execution_count": null,
      "metadata": {
        "id": "x9DHg2QcgrPO"
      },
      "outputs": [],
      "source": [
        "train.shape, test.shape"
      ]
    },
    {
      "cell_type": "code",
      "execution_count": null,
      "metadata": {
        "id": "rpzyMEBcgyNp"
      },
      "outputs": [],
      "source": [
        "CFG.num_classes = train.tag.nunique()"
      ]
    },
    {
      "cell_type": "code",
      "execution_count": null,
      "metadata": {
        "id": "0fQHEETvg5L-"
      },
      "outputs": [],
      "source": [
        "display( 'Language valuecounts',\n",
        "    train.lang.value_counts(),\n",
        "    'tag valuecounts',\n",
        "    train.tag.value_counts(),  )\n"
      ]
    },
    {
      "cell_type": "markdown",
      "metadata": {
        "id": "nk_zfEbPhpp8"
      },
      "source": [
        "### Find label mappings"
      ]
    },
    {
      "cell_type": "code",
      "execution_count": null,
      "metadata": {
        "id": "uApX0aFnhS7v"
      },
      "outputs": [],
      "source": [
        "train = train.rename(columns = {'tag': 'label'})\n",
        "train = train.dropna()\n",
        "\n",
        "train['label'] = le.fit_transform(train['label'])\n",
        "CFG.label_mappings = dict(zip(le.classes_, le.transform(le.classes_)))\n",
        "print(CFG.label_mappings)\n"
      ]
    },
    {
      "cell_type": "markdown",
      "metadata": {
        "id": "lwXICQVYiX0R"
      },
      "source": [
        "### Setup The Model"
      ]
    },
    {
      "cell_type": "code",
      "execution_count": null,
      "metadata": {
        "id": "K7tmAPwaiOoz"
      },
      "outputs": [],
      "source": [
        "tokz = AutoTokenizer.from_pretrained(CFG.model_name)\n",
        "model = AutoModelForSequenceClassification.from_pretrained(CFG.model_name, num_labels = CFG.num_classes).to(CFG.device)\n"
      ]
    },
    {
      "cell_type": "markdown",
      "metadata": {
        "id": "CDPKPZLIjB3j"
      },
      "source": [
        "### Setup our Dataset"
      ]
    },
    {
      "cell_type": "code",
      "execution_count": null,
      "metadata": {
        "id": "SlsukFkVi_cn"
      },
      "outputs": [],
      "source": [
        "df_valid = train[train['lang'].isin(CFG.valid_languages)].drop(columns = ['lang'])\n",
        "df_train = train[~train['lang'].isin(CFG.valid_languages)].drop(columns = ['lang'])\n",
        "test = test.rename(columns = {'Word':'word'})\n",
        "df_test = test [['word']]\n",
        "\n",
        "df_train.shape, df_valid.shape, df_test.shape"
      ]
    },
    {
      "cell_type": "code",
      "execution_count": null,
      "metadata": {
        "id": "NDzAfQFqlH8R"
      },
      "outputs": [],
      "source": [
        "df_train.label.mean(), df_valid.label.mean()"
      ]
    },
    {
      "cell_type": "code",
      "execution_count": null,
      "metadata": {
        "id": "WZUV46AZlS6w"
      },
      "outputs": [],
      "source": [
        "masakhane = DatasetDict({\n",
        "    \"train\": Dataset.from_pandas(df_train),\n",
        "    \"valid\": Dataset.from_pandas(df_valid),\n",
        "    \"test\": Dataset.from_pandas(df_test),\n",
        "})\n",
        "\n",
        "masakhane"
      ]
    },
    {
      "cell_type": "markdown",
      "metadata": {
        "id": "hOQfHp1tl09F"
      },
      "source": [
        "### Tokenization:\n"
      ]
    },
    {
      "cell_type": "code",
      "execution_count": null,
      "metadata": {
        "id": "4IjPWCBBluZz"
      },
      "outputs": [],
      "source": [
        "def tokenize(x):\n",
        "  return tokz(x['word'], truncation = True, padding = True, max_length = CFG.max_length)\n",
        "masakhane_encoded = masakhane.map(tokenize, batched = True, batch_size = CFG.batch_size)"
      ]
    },
    {
      "cell_type": "markdown",
      "metadata": {
        "id": "AjyPQc_9nzRB"
      },
      "source": [
        "### Training arguments"
      ]
    },
    {
      "cell_type": "code",
      "execution_count": null,
      "metadata": {
        "id": "zKK6J2DrngfJ"
      },
      "outputs": [],
      "source": [
        "model_name = f\"{CFG.model_name}-masakhane-challenge\"\n",
        "training_args = TrainingArguments(output_dir = model_name,\n",
        "                                  num_train_epochs = CFG.num_epochs,\n",
        "                                  learning_rate = 2e-05,\n",
        "                                  evaluation_strategy ='steps',\n",
        "                                  save_strategy = 'steps',\n",
        "                                  save_steps = 10,\n",
        "                                  eval_steps = 10,\n",
        "                                  warmup_steps = 10,\n",
        "                                  report_to=\"wandb\",\n",
        "                                  metric_for_best_model = \"accuracy\",\n",
        "                                  load_best_model_at_end = True,\n",
        "                                  save_total_limit=1,\n",
        "                                  logging_strategy=\"steps\",\n",
        "                                  logging_steps= 10,\n",
        "                                  per_device_train_batch_size=CFG.batch_size,\n",
        "                                  per_device_eval_batch_size=CFG.batch_size,\n",
        "                                  )"
      ]
    },
    {
      "cell_type": "code",
      "execution_count": null,
      "metadata": {
        "id": "7uEw6D51pfSq"
      },
      "outputs": [],
      "source": [
        "def compute_metrics(eval_pred):\n",
        "  predictions, labels = eval_pred\n",
        "  preds = np.argmax(predictions, axis = 1)\n",
        "  f1_micro = f1_score(labels, preds, average = \"micro\")\n",
        "  f1_macro = f1_score(labels, preds, average = \"macro\")\n",
        "  acc = accuracy_score(labels, preds)\n",
        "  return {\"accuracy\": acc, \"f1_micro\": f1_micro, \"f1_macro\": f1_macro}"
      ]
    },
    {
      "cell_type": "markdown",
      "metadata": {
        "id": "o_Y0uKTmqR-m"
      },
      "source": [
        "### Training"
      ]
    },
    {
      "cell_type": "code",
      "execution_count": null,
      "metadata": {
        "id": "iKcyHNI5qPSv"
      },
      "outputs": [],
      "source": [
        "early_stopping_callback = EarlyStoppingCallback(50)\n",
        "trainer = Trainer(model = model,\n",
        "                  args = training_args,\n",
        "                  compute_metrics = compute_metrics,\n",
        "                  train_dataset = masakhane_encoded['train'],\n",
        "                  eval_dataset = masakhane_encoded['valid'],\n",
        "                  tokenizer = tokz,\n",
        "                  callbacks = [early_stopping_callback],\n",
        "\n",
        "\n",
        "                  )\n",
        "\n",
        "trainer.train()"
      ]
    },
    {
      "cell_type": "markdown",
      "metadata": {
        "id": "kPmijQ06yX2W"
      },
      "source": [
        "0.227133835(public lb) - 0.2159(locally)"
      ]
    },
    {
      "cell_type": "code",
      "execution_count": null,
      "metadata": {
        "id": "6rB42atdrOnx"
      },
      "outputs": [],
      "source": [
        "trainer.evaluate()"
      ]
    },
    {
      "cell_type": "markdown",
      "metadata": {
        "id": "wLCcQ9mi8Egf"
      },
      "source": [
        "### 0.334691383 - 0.32816\n"
      ]
    },
    {
      "cell_type": "code",
      "execution_count": null,
      "metadata": {
        "id": "kz690cjFsoW2"
      },
      "outputs": [],
      "source": [
        "wandb.finish()"
      ]
    },
    {
      "cell_type": "markdown",
      "metadata": {
        "id": "VC-dY8k3r5_b"
      },
      "source": [
        "#### Inference pipeline"
      ]
    },
    {
      "cell_type": "code",
      "execution_count": null,
      "metadata": {
        "id": "Q2u-CU5csGWZ"
      },
      "outputs": [],
      "source": [
        "trainer.save_model(\"baseline_model\")"
      ]
    },
    {
      "cell_type": "code",
      "execution_count": null,
      "metadata": {
        "id": "hWrPlraZsh0O"
      },
      "outputs": [],
      "source": [
        "import os\n",
        "import random\n",
        "import pandas as pd\n",
        "import numpy as np\n",
        "import torch\n",
        "import transformers\n",
        "from transformers import AutoTokenizer, AutoModelForSequenceClassification, TrainingArguments, Trainer, EarlyStoppingCallback\n",
        "\n"
      ]
    },
    {
      "cell_type": "code",
      "execution_count": null,
      "metadata": {
        "id": "_K9ykEFYtE3y"
      },
      "outputs": [],
      "source": [
        "loaded_model = AutoModelForSequenceClassification.from_pretrained(\n",
        "    '/content/' + \"baseline_model\",\n",
        "    num_labels = CFG.num_classes,\n",
        "\n",
        ")\n",
        "\n",
        "loaded_tokenizer = AutoTokenizer.from_pretrained(\n",
        "    '/content/baseline_model'\n",
        ")"
      ]
    },
    {
      "cell_type": "code",
      "execution_count": null,
      "metadata": {
        "id": "p1jvETK-tsyG"
      },
      "outputs": [],
      "source": [
        "test_args = TrainingArguments(\n",
        "    output_dir= '/content/',\n",
        "    do_train =False,\n",
        "    do_predict = True,\n",
        "    dataloader_drop_last = False\n",
        ")\n",
        "\n",
        "trainer = Trainer(\n",
        "    model = loaded_model,\n",
        "    args = test_args,\n",
        ")\n",
        "\n",
        "test_results = trainer.predict(masakhane_encoded['test'])"
      ]
    },
    {
      "cell_type": "markdown",
      "metadata": {
        "id": "ee_wOgNLupzQ"
      },
      "source": []
    },
    {
      "cell_type": "markdown",
      "metadata": {
        "id": "wxMf3bNCup5R"
      },
      "source": [
        "### Prepare Submission"
      ]
    },
    {
      "cell_type": "code",
      "execution_count": null,
      "metadata": {
        "id": "3ZbJ6W8dur5A"
      },
      "outputs": [],
      "source": [
        "result = test_results.predictions.argmax(axis = 1)\n",
        "result = pd.DataFrame(result, columns = ['pred'])\n",
        "result['Id']= test['Id']\n",
        "\n",
        "name_le_mappings = {v:k for k,v in CFG.label_mappings.items()}\n",
        "result['pred'] = result['pred'].map(name_le_mappings)\n",
        "result = result[['Id', 'pred']]\n",
        "result.to_csv(\"baseline.csv\", index = False)\n",
        "result.head()\n"
      ]
    },
    {
      "cell_type": "markdown",
      "metadata": {
        "id": "oFdvTsjAzvfa"
      },
      "source": [
        "### To dos\n",
        "* Improve this approach\n",
        "* Try a token classification approach"
      ]
    },
    {
      "cell_type": "code",
      "execution_count": null,
      "metadata": {
        "id": "XcE-94eS9odZ"
      },
      "outputs": [],
      "source": []
    },
    {
      "cell_type": "code",
      "execution_count": null,
      "metadata": {
        "id": "Mq_nSCP80Vu-"
      },
      "outputs": [],
      "source": []
    }
  ],
  "metadata": {
    "accelerator": "GPU",
    "colab": {
      "provenance": []
    },
    "kernelspec": {
      "display_name": "Python 3",
      "name": "python3"
    },
    "language_info": {
      "name": "python"
    }
  },
  "nbformat": 4,
  "nbformat_minor": 0
}
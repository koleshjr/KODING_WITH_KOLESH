{
 "cells": [
  {
   "attachments": {},
   "cell_type": "markdown",
   "metadata": {},
   "source": [
    "### How to easily load Zindi Data On collab"
   ]
  },
  {
   "attachments": {},
   "cell_type": "markdown",
   "metadata": {},
   "source": [
    "* You need your Zindi's user name\n",
    "* You will be prompted to key in your password\n",
    "* You will have to choose the id of the competition you would like to participate in\n"
   ]
  },
  {
   "cell_type": "code",
   "execution_count": null,
   "metadata": {},
   "outputs": [],
   "source": [
    "# Package to have access to the Zindi Platform features\n",
    "!pip -q install git+https://github.com/eaedk/testing-zindi-package.git\n",
    "from zindi.user import Zindian\n",
    "#@title Input Username\n",
    "\n",
    "# Login info for a Zindi Account\n",
    "\n",
    "USERNAME = \"Your Zindi Username\" #@param {type : \"string\"}\n",
    "# object\n",
    "user = Zindian(username=USERNAME) # Sign in \n",
    "user.select_a_challenge(reward='all', kind='Competition', active='true')   \n",
    "user.which_challenge                                    # Get information about the selected challenge\n",
    "user.download_dataset(destination=\"dataset\") # Download the dataset of the selected challenge"
   ]
  }
 ],
 "metadata": {
  "language_info": {
   "name": "python"
  },
  "orig_nbformat": 4
 },
 "nbformat": 4,
 "nbformat_minor": 2
}

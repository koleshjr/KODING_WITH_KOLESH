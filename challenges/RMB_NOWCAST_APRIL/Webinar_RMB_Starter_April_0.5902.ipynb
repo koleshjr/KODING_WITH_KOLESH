{
  "nbformat": 4,
  "nbformat_minor": 0,
  "metadata": {
    "colab": {
      "provenance": []
    },
    "kernelspec": {
      "name": "python3",
      "display_name": "Python 3"
    },
    "language_info": {
      "name": "python"
    }
  },
  "cells": [
    {
      "cell_type": "markdown",
      "source": [
        "## NOWCASTING APRIL USING LINEAR REGRESSION\n",
        "* This approach assumes that Zindi has released the cpi data whhich happens approximately 24th of each month\n"
      ],
      "metadata": {
        "id": "blxZviVsv7Be"
      }
    },
    {
      "cell_type": "code",
      "source": [
        "#this is just for getting the file paths if you have them, no need to do this\n",
        "!git clone https://github.com/koleshjr/Koding_With_Kolesh.git\n"
      ],
      "metadata": {
        "id": "pdzEoQI7v6Wa"
      },
      "execution_count": null,
      "outputs": []
    },
    {
      "cell_type": "code",
      "source": [
        "import pandas as pd\n",
        "import numpy as np\n",
        "import seaborn as sns\n",
        "import matplotlib.pyplot as plt\n",
        "\n",
        "import math\n",
        "\n",
        "\n",
        "from sklearn.linear_model import LinearRegression, Ridge\n",
        "from sklearn.metrics import mean_squared_error\n",
        "from sklearn.preprocessing import StandardScaler, MinMaxScaler\n",
        "\n",
        "\n",
        "import warnings\n",
        "warnings.filterwarnings('ignore')\n",
        "\n",
        "pd.options.display.max_columns = 2000\n",
        "pd.options.display.max_rows = 2000\n",
        "\n",
        "\n",
        "path = '/content/Koding_With_Kolesh/challenges/RMB_NOWCAST_APRIL/'\n",
        "cpi = pd.read_csv(path + 'CPI_Historic_Values_Zindi_Mar_23.csv')\n",
        "vehicles = pd.read_csv(path + 'Naamsa_Vehicle_Sales.csv')"
      ],
      "metadata": {
        "id": "2K-ERhTntIlf"
      },
      "execution_count": null,
      "outputs": []
    },
    {
      "cell_type": "code",
      "source": [
        "cpi.head()"
      ],
      "metadata": {
        "id": "Cx3e_DdNtcy4",
        "colab": {
          "base_uri": "https://localhost:8080/",
          "height": 167
        },
        "outputId": "7c090e2f-2715-4ba2-be1c-b4e8d3b155f8"
      },
      "execution_count": null,
      "outputs": [
        {
          "output_type": "error",
          "ename": "NameError",
          "evalue": "ignored",
          "traceback": [
            "\u001b[0;31m---------------------------------------------------------------------------\u001b[0m",
            "\u001b[0;31mNameError\u001b[0m                                 Traceback (most recent call last)",
            "\u001b[0;32m<ipython-input-1-23b94f04c71e>\u001b[0m in \u001b[0;36m<cell line: 1>\u001b[0;34m()\u001b[0m\n\u001b[0;32m----> 1\u001b[0;31m \u001b[0mcpi\u001b[0m\u001b[0;34m.\u001b[0m\u001b[0mhead\u001b[0m\u001b[0;34m(\u001b[0m\u001b[0;34m)\u001b[0m\u001b[0;34m\u001b[0m\u001b[0;34m\u001b[0m\u001b[0m\n\u001b[0m",
            "\u001b[0;31mNameError\u001b[0m: name 'cpi' is not defined"
          ]
        }
      ]
    },
    {
      "cell_type": "code",
      "source": [
        "cpi_pivot = cpi.pivot(index = 'Month', columns = 'Category', values = 'Value').reset_index()#changing from a long format to a wide format,\n",
        "cpi_pivot['Month'] = pd.to_datetime(cpi_pivot['Month'])\n",
        "cpi_pivot = cpi_pivot.sort_values(\"Month\").reset_index(drop=True)\n",
        "cpi_pivot\n"
      ],
      "metadata": {
        "id": "5a7kpgJftiDO"
      },
      "execution_count": null,
      "outputs": []
    },
    {
      "cell_type": "markdown",
      "source": [
        "### Simple EDA\n"
      ],
      "metadata": {
        "id": "qGk39kC-uNXQ"
      }
    },
    {
      "cell_type": "code",
      "source": [
        "\n",
        "\n",
        "# Create a temporary dataframe with Month and Year columns\n",
        "df_temp = cpi_pivot.copy()\n",
        "df_temp['Year'] = pd.DatetimeIndex(df_temp['Month']).year\n",
        "df_temp['Month'] = pd.DatetimeIndex(df_temp['Month']).month\n",
        "\n",
        "# Define the categories to plot\n",
        "categories_to_plot = cpi_pivot.columns[1:]\n",
        "\n",
        "# Create subplots\n",
        "num_categories = len(categories_to_plot)\n",
        "num_rows = math.ceil(num_categories / 2)\n",
        "num_cols = 2\n",
        "\n",
        "fig, axs = plt.subplots(num_rows, num_cols, figsize=(12, 10))\n",
        "fig.tight_layout(pad=3.0)\n",
        "\n",
        "# Iterate over each category and plot its seasonality\n",
        "for i, category in enumerate(categories_to_plot):\n",
        "    row = i // num_cols\n",
        "    col = i % num_cols\n",
        "\n",
        "    ax = axs[row, col] if num_rows > 1 else axs[col]\n",
        "\n",
        "    sns.pointplot(x='Month', y=category, hue='Year', data=df_temp, ax=ax)\n",
        "    ax.set_title(category)\n",
        "    ax.set_xlabel('Month')\n",
        "    ax.set_ylabel('Value')\n",
        "\n",
        "# Hide any unused subplots\n",
        "for i in range(num_categories, num_rows * num_cols):\n",
        "    row = i // num_cols\n",
        "    col = i % num_cols\n",
        "\n",
        "    ax = axs[row, col] if num_rows > 1 else axs[col]\n",
        "    ax.axis('off')\n",
        "\n",
        "plt.suptitle('Seasonality of Categories', y=1.05)\n",
        "plt.show()\n"
      ],
      "metadata": {
        "id": "hyoldlc2tFAn"
      },
      "execution_count": null,
      "outputs": []
    },
    {
      "cell_type": "markdown",
      "source": [
        "### Add a row for April\n",
        "* so this is one of the things that keeps on changing across mini challenge: just the date_str"
      ],
      "metadata": {
        "id": "GIjlyDmYuy3M"
      }
    },
    {
      "cell_type": "code",
      "source": [
        "date_str = '2023-04-30'\n",
        "date_obj = pd.to_datetime(date_str)\n",
        "new_row = pd.DataFrame({'Month': [date_obj]})\n",
        "cpi_pivot = pd.concat([cpi_pivot, new_row]).reset_index(drop=True)\n",
        "cpi_pivot"
      ],
      "metadata": {
        "id": "WQTYF7ylvKff"
      },
      "execution_count": null,
      "outputs": []
    },
    {
      "cell_type": "markdown",
      "source": [
        "### Additional data source"
      ],
      "metadata": {
        "id": "_rJJQIAP6Kv_"
      }
    },
    {
      "cell_type": "markdown",
      "source": [
        "* Vehicles"
      ],
      "metadata": {
        "id": "6IykzRrUuT6H"
      }
    },
    {
      "cell_type": "code",
      "source": [
        "import datetime\n",
        "cpi_pivot['year_month'] = pd.to_datetime(cpi_pivot['Month'], format='%Y-%b').dt.strftime('%Y-%m')\n",
        "start_date = datetime.datetime.strptime(\"2020-12-31\", \"%Y-%m-%d\")\n",
        "end_date = datetime.datetime.strptime(\"2023-03-31\", \"%Y-%m-%d\")\n",
        "\n",
        "# difference between each date. M means one month end\n",
        "D = 'M'\n",
        "\n",
        "date_list = pd.date_range(start_date, end_date, freq=D)[::-1]\n",
        "vehicles['Date'] = date_list\n",
        "vehicles['Date'] = pd.to_datetime(vehicles['Date'], format='%Y-%b-%d')\n",
        "vehicles['year_month'] = pd.to_datetime(vehicles['Date'], format='%Y-%b').dt.strftime('%Y-%m')\n",
        "\n",
        "cpi_pivot = cpi_pivot.merge(vehicles[['year_month', 'Total_Local Sales', 'Total_Export_Sales']], on='year_month', how='left')\n",
        "\n"
      ],
      "metadata": {
        "id": "1tu9oSIO6Qc7"
      },
      "execution_count": null,
      "outputs": []
    },
    {
      "cell_type": "markdown",
      "source": [
        "* Indices"
      ],
      "metadata": {
        "id": "Mssefnn2uWsk"
      }
    },
    {
      "cell_type": "markdown",
      "source": [
        "* Currencies"
      ],
      "metadata": {
        "id": "RuD7-7FHuYhH"
      }
    },
    {
      "cell_type": "markdown",
      "source": [
        "* Additional data source from the links provided:"
      ],
      "metadata": {
        "id": "UCzKeHr4ubjt"
      }
    },
    {
      "cell_type": "markdown",
      "source": [
        "### Feature Engineering\n",
        "\n",
        "In time series feature engineering, \"lagging\" means looking at past values of a variable (such as temperature, sales, or stock prices) to understand its patterns or make predictions. By creating lagged features, you can include information from previous time points in your analysis. This can help you find trends, detect patterns, or forecast what might happen in the future based on what happened in the past.\n",
        "\n",
        "* Find your sweet spot\n"
      ],
      "metadata": {
        "id": "HDMSPE9qxNoj"
      }
    },
    {
      "cell_type": "code",
      "source": [
        "feats_to_lag = [col for col in cpi_pivot.columns if col not in ['Month', 'year_month']]\n",
        "for col in feats_to_lag:\n",
        "  for i in range(1, 8):\n",
        "    cpi_pivot[f\"prev_{i}_month_{col}\"]= cpi_pivot[col].shift(i)\n",
        "\n",
        "cpi_pivot"
      ],
      "metadata": {
        "id": "AIftW-wjxHqP"
      },
      "execution_count": null,
      "outputs": []
    },
    {
      "cell_type": "code",
      "source": [
        "cpi_pivot = cpi_pivot.drop(0)\n",
        "cpi_pivot = cpi_pivot.bfill()"
      ],
      "metadata": {
        "id": "g7iSaJpKxr1u"
      },
      "execution_count": null,
      "outputs": []
    },
    {
      "cell_type": "code",
      "source": [
        "train = cpi_pivot[cpi_pivot['Month'] != '2023-04-30']\n",
        "test = cpi_pivot[cpi_pivot['Month'] == '2023-04-30']\n",
        "\n",
        "training_set = train[train['Month']!= '2023-03-31']\n",
        "validation_set = train[train['Month']== '2023-03-31']\n",
        "\n",
        "train.shape, test.shape, training_set.shape, validation_set.shape"
      ],
      "metadata": {
        "id": "sPGC2IDdyMp_"
      },
      "execution_count": null,
      "outputs": []
    },
    {
      "cell_type": "markdown",
      "source": [
        "### Training and Validation"
      ],
      "metadata": {
        "id": "dlr39323ywIX"
      }
    },
    {
      "cell_type": "code",
      "source": [
        "target_cols = ['Alcoholic beverages and tobacco', 'Clothing and footwear',\n",
        "       'Communication', 'Education', 'Food and non-alcoholic beverages',\n",
        "       'Headline_CPI', 'Health', 'Household contents and services',\n",
        "       'Housing and utilities', 'Miscellaneous goods and services',\n",
        "       'Recreation and culture', 'Restaurants and hotels ', 'Transport']\n",
        "\n",
        "#if you add additional data sources that have no value in the predicting month , drop it, now that you have their lags\n",
        "features= [col for col in train.columns if col not in target_cols + ['Month', 'year_month','Total_Local Sales', 'Total_Export_Sales']]\n",
        "\n",
        "\n",
        "X_train = training_set[features]\n",
        "y_train = training_set[target_cols]\n",
        "\n",
        "X_val = validation_set[features]\n",
        "y_val = validation_set[target_cols]\n",
        "\n",
        "\n",
        "lr_models = {}\n",
        "y_pred = []\n",
        "scaler = MinMaxScaler()\n",
        "\n",
        "#training\n",
        "for target_col in target_cols:\n",
        "  lr_model = LinearRegression()\n",
        "  X_train_scaled = scaler.fit_transform(X_train)\n",
        "  lr_model.fit(X_train_scaled, y_train[target_col])\n",
        "  lr_models[target_col] = lr_model\n",
        "\n",
        "#validation\n",
        "\n",
        "for target_col in target_cols:\n",
        "  lr_model = lr_models[target_col]\n",
        "  X_val_scaled = scaler.transform(X_val)\n",
        "  y_pred_col = lr_model.predict(X_val_scaled)\n",
        "  y_pred.append(y_pred_col)\n",
        "\n",
        "\n",
        "#scoring\n",
        "\n",
        "y_pred = np.array(y_pred).T\n",
        "\n",
        "df = pd.DataFrame({'y_pred': y_pred.flatten(), 'y_val': y_val.values.flatten()})\n",
        "\n",
        "#calculate the rmse\n",
        "rmse = np.sqrt(mean_squared_error(df['y_pred'], df['y_val']))\n",
        "\n",
        "print(f'RMSE: {rmse}')\n",
        "\n",
        "\n",
        "\n",
        "\n",
        "\n"
      ],
      "metadata": {
        "id": "yytzXjskytOr"
      },
      "execution_count": null,
      "outputs": []
    },
    {
      "cell_type": "markdown",
      "source": [
        "### Training and Inference"
      ],
      "metadata": {
        "id": "FOonktBa2V7X"
      }
    },
    {
      "cell_type": "code",
      "source": [
        "\n",
        "X_train = train[features]\n",
        "y_train = train[target_cols]\n",
        "\n",
        "X_val = test[features]\n",
        "y_val = test[target_cols]\n",
        "\n",
        "\n",
        "lr_models = {}\n",
        "y_pred = []\n",
        "scaler = MinMaxScaler()\n",
        "\n",
        "#training\n",
        "for target_col in target_cols:\n",
        "  lr_model = LinearRegression()\n",
        "  X_train_scaled = scaler.fit_transform(X_train)\n",
        "  lr_model.fit(X_train_scaled, y_train[target_col])\n",
        "  lr_models[target_col] = lr_model\n",
        "\n",
        "#validation\n",
        "\n",
        "for target_col in target_cols:\n",
        "  lr_model = lr_models[target_col]\n",
        "  X_val_scaled = scaler.transform(X_val)\n",
        "  y_pred_col = lr_model.predict(X_val_scaled)\n",
        "  y_pred.append(y_pred_col)\n",
        "\n",
        "y_pred = np.array(y_pred).T\n"
      ],
      "metadata": {
        "id": "p0ZMcGFIzL8-"
      },
      "execution_count": null,
      "outputs": []
    },
    {
      "cell_type": "markdown",
      "source": [
        "### Prepare the Submission"
      ],
      "metadata": {
        "id": "YI-KVv8zvjDZ"
      }
    },
    {
      "cell_type": "code",
      "source": [
        "def prepSub(y_pred: list, target_cols: list, test: pd.DataFrame, prefix: str) -> pd.DataFrame:\n",
        "    # Create a submission DataFrame\n",
        "    submission_df = pd.DataFrame(y_pred, columns=target_cols)\n",
        "\n",
        "    # Add the month column to the submission DataFrame\n",
        "    submission_df['Month'] = test['Month']\n",
        "\n",
        "    # Set the month column as the index\n",
        "    submission_df.set_index('Month', inplace=True)\n",
        "\n",
        "    # Add the prefix to the column names\n",
        "    # Add the prefix to the column names\n",
        "    submission_df.columns = [prefix + '_' + col.lower().replace('_', ' ').strip() for col in submission_df.columns]\n",
        "    submission_df = submission_df.rename(columns = {f'{prefix}_headline cpi': f'{prefix}_headline CPI'})\n",
        "\n",
        "\n",
        "    # Reshape the DataFrame using pd.melt()\n",
        "    submission_df = pd.melt(submission_df.reset_index(), id_vars=['Month'], var_name='ID', value_name='Value')\n",
        "\n",
        "\n",
        "    return submission_df[['ID', 'Value']]\n",
        "\n",
        "#also the prefix here changes across mini challenges\n",
        "submission = prepSub(y_pred, target_cols, test, 'April')\n",
        "submission\n"
      ],
      "metadata": {
        "id": "QPBr_8vr2iOv",
        "colab": {
          "base_uri": "https://localhost:8080/",
          "height": 457
        },
        "outputId": "d290cfff-c630-4063-e049-4edf4411ba06"
      },
      "execution_count": null,
      "outputs": [
        {
          "output_type": "execute_result",
          "data": {
            "text/plain": [
              "                                        ID       Value\n",
              "0    April_alcoholic beverages and tobacco  110.206050\n",
              "1              April_clothing and footwear  103.762447\n",
              "2                      April_communication   99.742120\n",
              "3                          April_education  110.440096\n",
              "4   April_food and non-alcoholic beverages  117.845937\n",
              "5                       April_headline CPI  109.590150\n",
              "6                             April_health  110.155237\n",
              "7    April_household contents and services  108.087269\n",
              "8              April_housing and utilities  104.375742\n",
              "9   April_miscellaneous goods and services  109.413577\n",
              "10            April_recreation and culture  104.443606\n",
              "11            April_restaurants and hotels  110.175869\n",
              "12                         April_transport  113.031809"
            ],
            "text/html": [
              "\n",
              "  <div id=\"df-06ee0fa5-2d61-4759-9696-b3fd10ab7799\">\n",
              "    <div class=\"colab-df-container\">\n",
              "      <div>\n",
              "<style scoped>\n",
              "    .dataframe tbody tr th:only-of-type {\n",
              "        vertical-align: middle;\n",
              "    }\n",
              "\n",
              "    .dataframe tbody tr th {\n",
              "        vertical-align: top;\n",
              "    }\n",
              "\n",
              "    .dataframe thead th {\n",
              "        text-align: right;\n",
              "    }\n",
              "</style>\n",
              "<table border=\"1\" class=\"dataframe\">\n",
              "  <thead>\n",
              "    <tr style=\"text-align: right;\">\n",
              "      <th></th>\n",
              "      <th>ID</th>\n",
              "      <th>Value</th>\n",
              "    </tr>\n",
              "  </thead>\n",
              "  <tbody>\n",
              "    <tr>\n",
              "      <th>0</th>\n",
              "      <td>April_alcoholic beverages and tobacco</td>\n",
              "      <td>110.206050</td>\n",
              "    </tr>\n",
              "    <tr>\n",
              "      <th>1</th>\n",
              "      <td>April_clothing and footwear</td>\n",
              "      <td>103.762447</td>\n",
              "    </tr>\n",
              "    <tr>\n",
              "      <th>2</th>\n",
              "      <td>April_communication</td>\n",
              "      <td>99.742120</td>\n",
              "    </tr>\n",
              "    <tr>\n",
              "      <th>3</th>\n",
              "      <td>April_education</td>\n",
              "      <td>110.440096</td>\n",
              "    </tr>\n",
              "    <tr>\n",
              "      <th>4</th>\n",
              "      <td>April_food and non-alcoholic beverages</td>\n",
              "      <td>117.845937</td>\n",
              "    </tr>\n",
              "    <tr>\n",
              "      <th>5</th>\n",
              "      <td>April_headline CPI</td>\n",
              "      <td>109.590150</td>\n",
              "    </tr>\n",
              "    <tr>\n",
              "      <th>6</th>\n",
              "      <td>April_health</td>\n",
              "      <td>110.155237</td>\n",
              "    </tr>\n",
              "    <tr>\n",
              "      <th>7</th>\n",
              "      <td>April_household contents and services</td>\n",
              "      <td>108.087269</td>\n",
              "    </tr>\n",
              "    <tr>\n",
              "      <th>8</th>\n",
              "      <td>April_housing and utilities</td>\n",
              "      <td>104.375742</td>\n",
              "    </tr>\n",
              "    <tr>\n",
              "      <th>9</th>\n",
              "      <td>April_miscellaneous goods and services</td>\n",
              "      <td>109.413577</td>\n",
              "    </tr>\n",
              "    <tr>\n",
              "      <th>10</th>\n",
              "      <td>April_recreation and culture</td>\n",
              "      <td>104.443606</td>\n",
              "    </tr>\n",
              "    <tr>\n",
              "      <th>11</th>\n",
              "      <td>April_restaurants and hotels</td>\n",
              "      <td>110.175869</td>\n",
              "    </tr>\n",
              "    <tr>\n",
              "      <th>12</th>\n",
              "      <td>April_transport</td>\n",
              "      <td>113.031809</td>\n",
              "    </tr>\n",
              "  </tbody>\n",
              "</table>\n",
              "</div>\n",
              "      <button class=\"colab-df-convert\" onclick=\"convertToInteractive('df-06ee0fa5-2d61-4759-9696-b3fd10ab7799')\"\n",
              "              title=\"Convert this dataframe to an interactive table.\"\n",
              "              style=\"display:none;\">\n",
              "        \n",
              "  <svg xmlns=\"http://www.w3.org/2000/svg\" height=\"24px\"viewBox=\"0 0 24 24\"\n",
              "       width=\"24px\">\n",
              "    <path d=\"M0 0h24v24H0V0z\" fill=\"none\"/>\n",
              "    <path d=\"M18.56 5.44l.94 2.06.94-2.06 2.06-.94-2.06-.94-.94-2.06-.94 2.06-2.06.94zm-11 1L8.5 8.5l.94-2.06 2.06-.94-2.06-.94L8.5 2.5l-.94 2.06-2.06.94zm10 10l.94 2.06.94-2.06 2.06-.94-2.06-.94-.94-2.06-.94 2.06-2.06.94z\"/><path d=\"M17.41 7.96l-1.37-1.37c-.4-.4-.92-.59-1.43-.59-.52 0-1.04.2-1.43.59L10.3 9.45l-7.72 7.72c-.78.78-.78 2.05 0 2.83L4 21.41c.39.39.9.59 1.41.59.51 0 1.02-.2 1.41-.59l7.78-7.78 2.81-2.81c.8-.78.8-2.07 0-2.86zM5.41 20L4 18.59l7.72-7.72 1.47 1.35L5.41 20z\"/>\n",
              "  </svg>\n",
              "      </button>\n",
              "      \n",
              "  <style>\n",
              "    .colab-df-container {\n",
              "      display:flex;\n",
              "      flex-wrap:wrap;\n",
              "      gap: 12px;\n",
              "    }\n",
              "\n",
              "    .colab-df-convert {\n",
              "      background-color: #E8F0FE;\n",
              "      border: none;\n",
              "      border-radius: 50%;\n",
              "      cursor: pointer;\n",
              "      display: none;\n",
              "      fill: #1967D2;\n",
              "      height: 32px;\n",
              "      padding: 0 0 0 0;\n",
              "      width: 32px;\n",
              "    }\n",
              "\n",
              "    .colab-df-convert:hover {\n",
              "      background-color: #E2EBFA;\n",
              "      box-shadow: 0px 1px 2px rgba(60, 64, 67, 0.3), 0px 1px 3px 1px rgba(60, 64, 67, 0.15);\n",
              "      fill: #174EA6;\n",
              "    }\n",
              "\n",
              "    [theme=dark] .colab-df-convert {\n",
              "      background-color: #3B4455;\n",
              "      fill: #D2E3FC;\n",
              "    }\n",
              "\n",
              "    [theme=dark] .colab-df-convert:hover {\n",
              "      background-color: #434B5C;\n",
              "      box-shadow: 0px 1px 3px 1px rgba(0, 0, 0, 0.15);\n",
              "      filter: drop-shadow(0px 1px 2px rgba(0, 0, 0, 0.3));\n",
              "      fill: #FFFFFF;\n",
              "    }\n",
              "  </style>\n",
              "\n",
              "      <script>\n",
              "        const buttonEl =\n",
              "          document.querySelector('#df-06ee0fa5-2d61-4759-9696-b3fd10ab7799 button.colab-df-convert');\n",
              "        buttonEl.style.display =\n",
              "          google.colab.kernel.accessAllowed ? 'block' : 'none';\n",
              "\n",
              "        async function convertToInteractive(key) {\n",
              "          const element = document.querySelector('#df-06ee0fa5-2d61-4759-9696-b3fd10ab7799');\n",
              "          const dataTable =\n",
              "            await google.colab.kernel.invokeFunction('convertToInteractive',\n",
              "                                                     [key], {});\n",
              "          if (!dataTable) return;\n",
              "\n",
              "          const docLinkHtml = 'Like what you see? Visit the ' +\n",
              "            '<a target=\"_blank\" href=https://colab.research.google.com/notebooks/data_table.ipynb>data table notebook</a>'\n",
              "            + ' to learn more about interactive tables.';\n",
              "          element.innerHTML = '';\n",
              "          dataTable['output_type'] = 'display_data';\n",
              "          await google.colab.output.renderOutput(dataTable, element);\n",
              "          const docLink = document.createElement('div');\n",
              "          docLink.innerHTML = docLinkHtml;\n",
              "          element.appendChild(docLink);\n",
              "        }\n",
              "      </script>\n",
              "    </div>\n",
              "  </div>\n",
              "  "
            ]
          },
          "metadata": {},
          "execution_count": 24
        }
      ]
    },
    {
      "cell_type": "code",
      "source": [
        "submission.to_csv(\"April_5.csv\", index = False)"
      ],
      "metadata": {
        "id": "2Si1YWTB2wDm"
      },
      "execution_count": null,
      "outputs": []
    },
    {
      "cell_type": "code",
      "source": [],
      "metadata": {
        "id": "LTH1UotCRIiZ"
      },
      "execution_count": null,
      "outputs": []
    }
  ]
}